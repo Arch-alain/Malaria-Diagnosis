{
 "cells": [
  {
   "cell_type": "markdown",
   "id": "e216bba0",
   "metadata": {},
   "source": [
    "# contrast Enhacement and color constancy "
   ]
  },
  {
   "cell_type": "code",
   "execution_count": 1,
   "id": "1a05f1bd",
   "metadata": {},
   "outputs": [],
   "source": [
    "#function that increase the contrast and perform the color constancy on a list of images in a folder and save them in a new folder \n",
    "import cv2\n",
    "import numpy as np\n",
    "import matplotlib.pyplot as plt\n",
    "from PIL import Image, ImageEnhance\n",
    "\n",
    "import os\n",
    "from skimage import img_as_float, img_as_ubyte, io\n",
    "import scipy.ndimage as nd\n",
    "\n",
    "\n",
    "def gray_world(image):\n",
    "    # Convert the image to float32 for accurate calculations\n",
    "    image_float = image.astype('float32')\n",
    "    \n",
    "    # Calculate the average R, G, and B values\n",
    "    avg_r = image_float[:, :, 0].mean()\n",
    "    avg_g = image_float[:, :, 1].mean()\n",
    "    avg_b = image_float[:, :, 2].mean()\n",
    "    \n",
    "    # Calculate the gray factor to scale the channels\n",
    "    gray_value = (avg_r + avg_g + avg_b) / 3.0\n",
    "    \n",
    "    # Scale the channels\n",
    "    image_float[:, :, 0] *= gray_value / avg_r\n",
    "    image_float[:, :, 1] *= gray_value / avg_g\n",
    "    image_float[:, :, 2] *= gray_value / avg_b\n",
    "    \n",
    "    # Clip pixel values using numpy\n",
    "    image_float = np.clip(image_float, 0, 255)\n",
    "    \n",
    "    # Convert back to uint8 and return\n",
    "    result = image_float.astype('uint8')\n",
    "    return result\n",
    "\n",
    "def preprocess(input_folder, output_folder,factor):\n",
    "    # Create the output folder if it doesn't exist\n",
    "    os.makedirs(output_folder, exist_ok=True)\n",
    "\n",
    "    # Get a list of file names in the input folder\n",
    "    file_names = [f for f in os.listdir(input_folder) if os.path.isfile(os.path.join(input_folder, f))]\n",
    "    #read the image\n",
    "    arrOfimag=[]\n",
    "    for file_name in file_names:\n",
    "        # Load the image\n",
    "        input_path = os.path.join(input_folder, file_name)\n",
    "    \n",
    "        im = Image.open(input_path)\n",
    "        #image brightness enhancer\n",
    "        enhancer = ImageEnhance.Contrast(im)\n",
    "        fact = factor #increase contrast\n",
    "        im_output = enhancer.enhance(fact)\n",
    "        \n",
    "        # Convert to OpenCV format\n",
    "        image_cv = np.array(im_output)\n",
    "\n",
    "        # Perform color constancy\n",
    "        result = gray_world(image_cv)\n",
    "        \n",
    "        mage=cv2.cvtColor(result, cv2.COLOR_BGR2RGB)\n",
    "        name=file_name.rsplit('.', 1)[0]\n",
    "#         print(name)m\n",
    "        cv2.imwrite(output_folder+\"/\"+name+'.jpg', mage)\n",
    "    print(\"done\")\n",
    "#     original_string.replace(characters_to_strip, \"\")"
   ]
  },
  {
   "cell_type": "code",
   "execution_count": 2,
   "id": "a537cc9e",
   "metadata": {},
   "outputs": [
    {
     "name": "stdout",
     "output_type": "stream",
     "text": [
      "done\n"
     ]
    }
   ],
   "source": [
    " preprocess(\"pf_images\", \"N_prepss_pf_images\",2.5)"
   ]
  },
  {
   "cell_type": "code",
   "execution_count": 3,
   "id": "9ff7f02c",
   "metadata": {},
   "outputs": [
    {
     "name": "stdout",
     "output_type": "stream",
     "text": [
      "done\n"
     ]
    }
   ],
   "source": [
    " preprocess(\"pm_images\", \"N_prepss_pm_images\",2.5)"
   ]
  },
  {
   "cell_type": "code",
   "execution_count": 4,
   "id": "44d03f32",
   "metadata": {},
   "outputs": [
    {
     "name": "stdout",
     "output_type": "stream",
     "text": [
      "done\n"
     ]
    }
   ],
   "source": [
    "preprocess(\"pv_images\", \"N_prepss_pv_images\",2.5)"
   ]
  },
  {
   "cell_type": "code",
   "execution_count": 5,
   "id": "7695613c",
   "metadata": {},
   "outputs": [
    {
     "name": "stdout",
     "output_type": "stream",
     "text": [
      "done\n"
     ]
    }
   ],
   "source": [
    "preprocess(\"po_images\", \"N_prepss_po_images\",2.5)"
   ]
  },
  {
   "cell_type": "markdown",
   "id": "4a710aa3",
   "metadata": {},
   "source": [
    "# perfoming the median filter"
   ]
  },
  {
   "cell_type": "code",
   "execution_count": 7,
   "id": "0d2d9b3f",
   "metadata": {},
   "outputs": [],
   "source": [
    "\n",
    "import os\n",
    "from skimage import img_as_float, img_as_ubyte, io\n",
    "import numpy as np\n",
    "import scipy.ndimage as nd\n",
    "from tqdm import tqdm\n",
    "def perform_median_filter(input_folder, output_folder, filter_size=3):\n",
    "    # Create the output folder if it doesn't exist\n",
    "    os.makedirs(output_folder, exist_ok=True)\n",
    "\n",
    "    # Get a list of file names in the input folder\n",
    "    file_names = [f for f in os.listdir(input_folder) if os.path.isfile(os.path.join(input_folder, f))]\n",
    "\n",
    "    # Perform median filtering and save filtered images to the output folder\n",
    "    for file_name in tqdm(file_names, desc='Processing Images', unit='image'):\n",
    "        # Load the image\n",
    "        input_path = os.path.join(input_folder, file_name)\n",
    "        img = img_as_float(io.imread(input_path))\n",
    "\n",
    "        # Perform median filtering\n",
    "        median_img = nd.median_filter(img, size=filter_size)\n",
    "\n",
    "        # Convert the filtered image to uint8 format to avoid the warning\n",
    "        median_img_uint8 = img_as_ubyte(median_img)\n",
    "\n",
    "        # Save the filtered image to the output folder\n",
    "        output_path = os.path.join(output_folder, file_name)\n",
    "        io.imsave(output_path, median_img_uint8)"
   ]
  },
  {
   "cell_type": "code",
   "execution_count": 9,
   "id": "11648ed1",
   "metadata": {},
   "outputs": [
    {
     "name": "stderr",
     "output_type": "stream",
     "text": [
      "Processing Images:  29%|██▉       | 33/114 [13:03<33:02, 24.47s/image]C:\\Users\\Alain Destin\\AppData\\Local\\Temp\\ipykernel_19508\\2186356067.py:27: UserWarning: N_prepss_pv_images_\\pv_25.jpg is a low contrast image\n",
      "  io.imsave(output_path, median_img_uint8)\n",
      "Processing Images: 100%|██████████| 114/114 [55:27<00:00, 29.19s/image]\n"
     ]
    }
   ],
   "source": [
    "input_folder_path = \"N_prepss_pv_images\"\n",
    "output_folder_path = \"N_prepss_pv_images_\"\n",
    "\n",
    "# Perform median filtering and recreate images in the output folder\n",
    "perform_median_filter(input_folder_path, output_folder_path, filter_size=3)"
   ]
  },
  {
   "cell_type": "code",
   "execution_count": 13,
   "id": "58cf8ab9",
   "metadata": {},
   "outputs": [
    {
     "name": "stderr",
     "output_type": "stream",
     "text": [
      "Processing Images: 100%|██████████| 47/47 [06:47<00:00,  8.68s/image]\n"
     ]
    }
   ],
   "source": [
    "input_folder_path = \"pf_images\"\n",
    "output_folder_path = \"pf_images_\"\n",
    "\n",
    "# Perform median filtering and recreate images in the output folder\n",
    "perform_median_filter(input_folder_path, output_folder_path, filter_size=3)"
   ]
  },
  {
   "cell_type": "code",
   "execution_count": 14,
   "id": "2e9ce7b0",
   "metadata": {},
   "outputs": [
    {
     "name": "stderr",
     "output_type": "stream",
     "text": [
      "Processing Images:   1%|▏         | 1/77 [00:13<17:33, 13.86s/image]C:\\Users\\Alain Destin\\AppData\\Local\\Temp\\ipykernel_24088\\534555920.py:27: UserWarning: pm_images_\\pm_10.jpg is a low contrast image\n",
      "  io.imsave(output_path, median_img_uint8)\n",
      "Processing Images:   3%|▎         | 2/77 [00:26<16:27, 13.16s/image]C:\\Users\\Alain Destin\\AppData\\Local\\Temp\\ipykernel_24088\\534555920.py:27: UserWarning: pm_images_\\pm_11.jpg is a low contrast image\n",
      "  io.imsave(output_path, median_img_uint8)\n",
      "Processing Images:   9%|▉         | 7/77 [01:36<16:17, 13.96s/image]C:\\Users\\Alain Destin\\AppData\\Local\\Temp\\ipykernel_24088\\534555920.py:27: UserWarning: pm_images_\\pm_16.jpg is a low contrast image\n",
      "  io.imsave(output_path, median_img_uint8)\n",
      "Processing Images:  10%|█         | 8/77 [01:47<14:57, 13.00s/image]C:\\Users\\Alain Destin\\AppData\\Local\\Temp\\ipykernel_24088\\534555920.py:27: UserWarning: pm_images_\\pm_17.jpg is a low contrast image\n",
      "  io.imsave(output_path, median_img_uint8)\n",
      "Processing Images: 100%|██████████| 77/77 [12:05<00:00,  9.43s/image]\n"
     ]
    }
   ],
   "source": [
    "input_folder_path = \"pm_images\"\n",
    "output_folder_path = \"pm_images_\"\n",
    "\n",
    "# Perform median filtering and recreate images in the output folder\n",
    "perform_median_filter(input_folder_path, output_folder_path, filter_size=3)"
   ]
  },
  {
   "cell_type": "code",
   "execution_count": 15,
   "id": "f4b693b5",
   "metadata": {},
   "outputs": [
    {
     "name": "stderr",
     "output_type": "stream",
     "text": [
      "Processing Images:  21%|██▏       | 17/80 [04:42<17:15, 16.43s/image]C:\\Users\\Alain Destin\\AppData\\Local\\Temp\\ipykernel_24088\\534555920.py:27: UserWarning: pv_images_\\pv_25.jpg is a low contrast image\n",
      "  io.imsave(output_path, median_img_uint8)\n",
      "Processing Images:  31%|███▏      | 25/80 [06:31<14:09, 15.44s/image]C:\\Users\\Alain Destin\\AppData\\Local\\Temp\\ipykernel_24088\\534555920.py:27: UserWarning: pv_images_\\pv_32.jpg is a low contrast image\n",
      "  io.imsave(output_path, median_img_uint8)\n",
      "Processing Images:  34%|███▍      | 27/80 [07:06<14:37, 16.56s/image]C:\\Users\\Alain Destin\\AppData\\Local\\Temp\\ipykernel_24088\\534555920.py:27: UserWarning: pv_images_\\pv_34.jpg is a low contrast image\n",
      "  io.imsave(output_path, median_img_uint8)\n",
      "Processing Images:  38%|███▊      | 30/80 [07:50<12:22, 14.85s/image]C:\\Users\\Alain Destin\\AppData\\Local\\Temp\\ipykernel_24088\\534555920.py:27: UserWarning: pv_images_\\pv_37.jpg is a low contrast image\n",
      "  io.imsave(output_path, median_img_uint8)\n",
      "Processing Images:  40%|████      | 32/80 [08:17<11:28, 14.34s/image]C:\\Users\\Alain Destin\\AppData\\Local\\Temp\\ipykernel_24088\\534555920.py:27: UserWarning: pv_images_\\pv_39.jpg is a low contrast image\n",
      "  io.imsave(output_path, median_img_uint8)\n",
      "Processing Images: 100%|██████████| 80/80 [21:05<00:00, 15.82s/image]\n"
     ]
    }
   ],
   "source": [
    "input_folder_path = \"pv_images\"\n",
    "output_folder_path = \"pv_images_\"\n",
    "\n",
    "# Perform median filtering and recreate images in the output folder\n",
    "perform_median_filter(input_folder_path, output_folder_path, filter_size=3)"
   ]
  }
 ],
 "metadata": {
  "kernelspec": {
   "display_name": "Python 3 (ipykernel)",
   "language": "python",
   "name": "python3"
  },
  "language_info": {
   "codemirror_mode": {
    "name": "ipython",
    "version": 3
   },
   "file_extension": ".py",
   "mimetype": "text/x-python",
   "name": "python",
   "nbconvert_exporter": "python",
   "pygments_lexer": "ipython3",
   "version": "3.10.9"
  }
 },
 "nbformat": 4,
 "nbformat_minor": 5
}
